{
 "cells": [
  {
   "cell_type": "code",
   "execution_count": 0,
   "metadata": {
    "colab": {
     "base_uri": "https://localhost:8080/",
     "height": 34
    },
    "colab_type": "code",
    "executionInfo": {
     "elapsed": 29,
     "status": "ok",
     "timestamp": 1563231560435,
     "user": {
      "displayName": "Maryam Barouti",
      "photoUrl": "https://lh6.googleusercontent.com/-Wo2mQpeXTgk/AAAAAAAAAAI/AAAAAAAAADg/n5iGHvZGCOo/s64/photo.jpg",
      "userId": "15748171986397641189"
     },
     "user_tz": 360
    },
    "id": "LYI8PVGwiB43",
    "outputId": "10a524c8-edc3-4edb-ba61-a629f06a1e9c"
   },
   "outputs": [
    {
     "name": "stdout",
     "output_type": "stream",
     "text": [
      "Drive already mounted at /content/drive; to attempt to forcibly remount, call drive.mount(\"/content/drive\", force_remount=True).\n"
     ]
    }
   ],
   "source": [
    "import numpy as np\n",
    "np.random.seed(42)\n",
    "from google.colab import drive\n",
    "drive.mount('/content/drive')"
   ]
  },
  {
   "cell_type": "code",
   "execution_count": 0,
   "metadata": {
    "colab": {},
    "colab_type": "code",
    "collapsed": true,
    "id": "jJqB92oeiLe8"
   },
   "outputs": [],
   "source": [
    "import pandas as pd\n",
    "data=pd.read_json(\"/content/drive/My Drive/sarcasm/Sarcasm_Headlines_Dataset.json\", lines=True)"
   ]
  },
  {
   "cell_type": "code",
   "execution_count": 0,
   "metadata": {
    "colab": {},
    "colab_type": "code",
    "collapsed": true,
    "id": "EnRYqf53izKm"
   },
   "outputs": [],
   "source": [
    "text = data.headline.tolist()\n",
    "label = np.array(data.is_sarcastic.tolist())"
   ]
  },
  {
   "cell_type": "code",
   "execution_count": 0,
   "metadata": {
    "colab": {
     "base_uri": "https://localhost:8080/",
     "height": 34
    },
    "colab_type": "code",
    "executionInfo": {
     "elapsed": 583,
     "status": "ok",
     "timestamp": 1563223290634,
     "user": {
      "displayName": "Maryam Barouti",
      "photoUrl": "https://lh6.googleusercontent.com/-Wo2mQpeXTgk/AAAAAAAAAAI/AAAAAAAAADg/n5iGHvZGCOo/s64/photo.jpg",
      "userId": "15748171986397641189"
     },
     "user_tz": 360
    },
    "id": "MTLfHDJrjF7c",
    "outputId": "c2fdc4aa-f8eb-4a6a-905a-2bbad8f93c68"
   },
   "outputs": [
    {
     "data": {
      "text/plain": [
       "(26709, 26709)"
      ]
     },
     "execution_count": 4,
     "metadata": {
      "tags": []
     },
     "output_type": "execute_result"
    }
   ],
   "source": [
    "len(text),len(label)"
   ]
  },
  {
   "cell_type": "code",
   "execution_count": 0,
   "metadata": {
    "colab": {
     "base_uri": "https://localhost:8080/",
     "height": 34
    },
    "colab_type": "code",
    "executionInfo": {
     "elapsed": 3059,
     "status": "ok",
     "timestamp": 1563223295128,
     "user": {
      "displayName": "Maryam Barouti",
      "photoUrl": "https://lh6.googleusercontent.com/-Wo2mQpeXTgk/AAAAAAAAAAI/AAAAAAAAADg/n5iGHvZGCOo/s64/photo.jpg",
      "userId": "15748171986397641189"
     },
     "user_tz": 360
    },
    "id": "WU_zPUCqjLv5",
    "outputId": "bf35ec6a-a5e6-4f2e-b88f-fdf8b2dab184"
   },
   "outputs": [
    {
     "name": "stderr",
     "output_type": "stream",
     "text": [
      "Using TensorFlow backend.\n"
     ]
    }
   ],
   "source": [
    "import keras\n",
    "\n",
    "from keras.preprocessing.text import Tokenizer\n",
    "# create the tokenizer\n",
    "t = Tokenizer()\n",
    "# fit the tokenizer on the documents\n",
    "seq=t.fit_on_texts(text)"
   ]
  },
  {
   "cell_type": "code",
   "execution_count": 0,
   "metadata": {
    "colab": {},
    "colab_type": "code",
    "collapsed": true,
    "id": "EBXW_FuilDY1"
   },
   "outputs": [],
   "source": [
    "vocab_size=len(t.word_index)+1"
   ]
  },
  {
   "cell_type": "code",
   "execution_count": 0,
   "metadata": {
    "colab": {
     "base_uri": "https://localhost:8080/",
     "height": 34
    },
    "colab_type": "code",
    "executionInfo": {
     "elapsed": 1172,
     "status": "ok",
     "timestamp": 1563223297568,
     "user": {
      "displayName": "Maryam Barouti",
      "photoUrl": "https://lh6.googleusercontent.com/-Wo2mQpeXTgk/AAAAAAAAAAI/AAAAAAAAADg/n5iGHvZGCOo/s64/photo.jpg",
      "userId": "15748171986397641189"
     },
     "user_tz": 360
    },
    "id": "nG4dlytuDNME",
    "outputId": "97a76d39-ef47-45be-bf61-365205f87621"
   },
   "outputs": [
    {
     "data": {
      "text/plain": [
       "29657"
      ]
     },
     "execution_count": 7,
     "metadata": {
      "tags": []
     },
     "output_type": "execute_result"
    }
   ],
   "source": [
    "vocab_size"
   ]
  },
  {
   "cell_type": "code",
   "execution_count": 0,
   "metadata": {
    "colab": {},
    "colab_type": "code",
    "collapsed": true,
    "id": "KCDHzNiyhAZ7"
   },
   "outputs": [],
   "source": [
    "sequences = t.texts_to_sequences(text)"
   ]
  },
  {
   "cell_type": "code",
   "execution_count": 0,
   "metadata": {
    "colab": {},
    "colab_type": "code",
    "collapsed": true,
    "id": "ihbpjSetlho2"
   },
   "outputs": [],
   "source": [
    "from keras.preprocessing.sequence import pad_sequences\n",
    "train=pad_sequences(sequences, maxlen=100,padding='pre')"
   ]
  },
  {
   "cell_type": "code",
   "execution_count": 0,
   "metadata": {
    "colab": {
     "base_uri": "https://localhost:8080/",
     "height": 34
    },
    "colab_type": "code",
    "executionInfo": {
     "elapsed": 626,
     "status": "ok",
     "timestamp": 1563223303016,
     "user": {
      "displayName": "Maryam Barouti",
      "photoUrl": "https://lh6.googleusercontent.com/-Wo2mQpeXTgk/AAAAAAAAAAI/AAAAAAAAADg/n5iGHvZGCOo/s64/photo.jpg",
      "userId": "15748171986397641189"
     },
     "user_tz": 360
    },
    "id": "S9DkQR3Hf9jx",
    "outputId": "694ac87a-c5b7-46ac-8018-b1930cd5bab7"
   },
   "outputs": [
    {
     "data": {
      "text/plain": [
       "(26709, 100)"
      ]
     },
     "execution_count": 10,
     "metadata": {
      "tags": []
     },
     "output_type": "execute_result"
    }
   ],
   "source": [
    "train.shape"
   ]
  },
  {
   "cell_type": "code",
   "execution_count": 0,
   "metadata": {
    "colab": {},
    "colab_type": "code",
    "collapsed": true,
    "id": "nZd-R8z5DWqq"
   },
   "outputs": [],
   "source": [
    "from sklearn.model_selection import train_test_split\n",
    "\n",
    "X_train,X_testVal,y_train,y_testVal=train_test_split(train,label,test_size=0.3,stratify=label)\n",
    "X_val,X_test,y_val,y_test=train_test_split(X_testVal,y_testVal,test_size=0.5,stratify=y_testVal)"
   ]
  },
  {
   "cell_type": "code",
   "execution_count": 0,
   "metadata": {
    "colab": {
     "base_uri": "https://localhost:8080/",
     "height": 34
    },
    "colab_type": "code",
    "executionInfo": {
     "elapsed": 252,
     "status": "ok",
     "timestamp": 1563223305576,
     "user": {
      "displayName": "Maryam Barouti",
      "photoUrl": "https://lh6.googleusercontent.com/-Wo2mQpeXTgk/AAAAAAAAAAI/AAAAAAAAADg/n5iGHvZGCOo/s64/photo.jpg",
      "userId": "15748171986397641189"
     },
     "user_tz": 360
    },
    "id": "O_Fm845zfo21",
    "outputId": "622eaf36-5175-4f2e-e7e5-c909f4abc785"
   },
   "outputs": [
    {
     "data": {
      "text/plain": [
       "(18696,)"
      ]
     },
     "execution_count": 12,
     "metadata": {
      "tags": []
     },
     "output_type": "execute_result"
    }
   ],
   "source": [
    "y_train.shape"
   ]
  },
  {
   "cell_type": "code",
   "execution_count": 0,
   "metadata": {
    "colab": {
     "base_uri": "https://localhost:8080/",
     "height": 34
    },
    "colab_type": "code",
    "executionInfo": {
     "elapsed": 586,
     "status": "ok",
     "timestamp": 1563223307515,
     "user": {
      "displayName": "Maryam Barouti",
      "photoUrl": "https://lh6.googleusercontent.com/-Wo2mQpeXTgk/AAAAAAAAAAI/AAAAAAAAADg/n5iGHvZGCOo/s64/photo.jpg",
      "userId": "15748171986397641189"
     },
     "user_tz": 360
    },
    "id": "dma02jnA-JOG",
    "outputId": "a25c14a5-895a-4814-d0b3-e300537b4f69"
   },
   "outputs": [
    {
     "data": {
      "text/plain": [
       "(array([0, 1]), array([10489,  8207]))"
      ]
     },
     "execution_count": 13,
     "metadata": {
      "tags": []
     },
     "output_type": "execute_result"
    }
   ],
   "source": [
    "np.unique(y_train,return_counts=True)"
   ]
  },
  {
   "cell_type": "code",
   "execution_count": 0,
   "metadata": {
    "colab": {},
    "colab_type": "code",
    "collapsed": true,
    "id": "XqJe6AT-DgQX"
   },
   "outputs": [],
   "source": [
    "from imblearn.over_sampling import RandomOverSampler\n",
    "rus = RandomOverSampler(return_indices=True)\n",
    "X_rus_train, y_rus_train, id_rus = rus.fit_sample(X_train, y_train)"
   ]
  },
  {
   "cell_type": "code",
   "execution_count": 0,
   "metadata": {
    "colab": {
     "base_uri": "https://localhost:8080/",
     "height": 34
    },
    "colab_type": "code",
    "executionInfo": {
     "elapsed": 589,
     "status": "ok",
     "timestamp": 1563223794747,
     "user": {
      "displayName": "Maryam Barouti",
      "photoUrl": "https://lh6.googleusercontent.com/-Wo2mQpeXTgk/AAAAAAAAAAI/AAAAAAAAADg/n5iGHvZGCOo/s64/photo.jpg",
      "userId": "15748171986397641189"
     },
     "user_tz": 360
    },
    "id": "yepi2D3vP86c",
    "outputId": "a9fb6184-e236-4091-9361-1e20d233dba4"
   },
   "outputs": [
    {
     "data": {
      "text/plain": [
       "(array([0, 1]), array([10489, 10489]))"
      ]
     },
     "execution_count": 26,
     "metadata": {
      "tags": []
     },
     "output_type": "execute_result"
    }
   ],
   "source": [
    "np.unique(y_rus_train,return_counts=True)"
   ]
  },
  {
   "cell_type": "code",
   "execution_count": 0,
   "metadata": {
    "colab": {},
    "colab_type": "code",
    "collapsed": true,
    "id": "HqJAySy2EDn-"
   },
   "outputs": [],
   "source": [
    "from keras.callbacks import History, EarlyStopping\n",
    "hist=History()\n",
    "early=EarlyStopping(monitor='val_loss', patience=1, restore_best_weights=False)"
   ]
  },
  {
   "cell_type": "markdown",
   "metadata": {
    "colab_type": "text",
    "id": "d92Ftvj4pWPK"
   },
   "source": [
    "# **LSTM on data**"
   ]
  },
  {
   "cell_type": "code",
   "execution_count": 0,
   "metadata": {
    "colab": {},
    "colab_type": "code",
    "collapsed": true,
    "id": "kBjiUL2QowOc"
   },
   "outputs": [],
   "source": [
    "from keras.layers import Embedding, CuDNNLSTM, Dense, Dropout\n",
    "from keras.models import Sequential\n",
    "from keras import optimizers\n",
    "import keras.utils as ku\n",
    "from keras import regularizers\n",
    "opt=optimizers.adam(lr=1e-4,decay=0.1)\n",
    "model=Sequential()\n",
    "model.add(Embedding(input_dim=29657,output_dim=200,embeddings_initializer='uniform'))\n",
    "model.add(CuDNNLSTM(100,return_sequences=True))\n",
    "model.add(Dropout(0.5))\n",
    "model.add(CuDNNLSTM(100))\n",
    "model.add(Dense(2,activation='softmax'))\n",
    "model.compile(loss='categorical_crossentropy',optimizer=opt,metrics=['accuracy'])"
   ]
  },
  {
   "cell_type": "code",
   "execution_count": 0,
   "metadata": {
    "colab": {
     "base_uri": "https://localhost:8080/",
     "height": 561
    },
    "colab_type": "code",
    "executionInfo": {
     "elapsed": 471315,
     "status": "ok",
     "timestamp": 1563240266056,
     "user": {
      "displayName": "Maryam Barouti",
      "photoUrl": "https://lh6.googleusercontent.com/-Wo2mQpeXTgk/AAAAAAAAAAI/AAAAAAAAADg/n5iGHvZGCOo/s64/photo.jpg",
      "userId": "15748171986397641189"
     },
     "user_tz": 360
    },
    "id": "61xMOVqD2kC2",
    "outputId": "d7816279-be61-48fb-8aef-ffed18188a9f"
   },
   "outputs": [
    {
     "name": "stdout",
     "output_type": "stream",
     "text": [
      "Train on 20978 samples, validate on 4006 samples\n",
      "Epoch 1/15\n",
      "20978/20978 [==============================] - 40s 2ms/step - loss: 0.6922 - acc: 0.5476 - val_loss: 0.6914 - val_acc: 0.6108\n",
      "Epoch 2/15\n",
      "20978/20978 [==============================] - 35s 2ms/step - loss: 0.6916 - acc: 0.5921 - val_loss: 0.6911 - val_acc: 0.6273\n",
      "Epoch 3/15\n",
      "20978/20978 [==============================] - 32s 2ms/step - loss: 0.6914 - acc: 0.6056 - val_loss: 0.6910 - val_acc: 0.6385\n",
      "Epoch 4/15\n",
      "20978/20978 [==============================] - 30s 1ms/step - loss: 0.6912 - acc: 0.6180 - val_loss: 0.6909 - val_acc: 0.6453\n",
      "Epoch 5/15\n",
      "20978/20978 [==============================] - 30s 1ms/step - loss: 0.6910 - acc: 0.6319 - val_loss: 0.6908 - val_acc: 0.6485\n",
      "Epoch 6/15\n",
      "20978/20978 [==============================] - 30s 1ms/step - loss: 0.6909 - acc: 0.6348 - val_loss: 0.6907 - val_acc: 0.6523\n",
      "Epoch 7/15\n",
      "20978/20978 [==============================] - 30s 1ms/step - loss: 0.6909 - acc: 0.6341 - val_loss: 0.6906 - val_acc: 0.6570\n",
      "Epoch 8/15\n",
      "20978/20978 [==============================] - 30s 1ms/step - loss: 0.6907 - acc: 0.6436 - val_loss: 0.6906 - val_acc: 0.6623\n",
      "Epoch 9/15\n",
      "20978/20978 [==============================] - 30s 1ms/step - loss: 0.6907 - acc: 0.6374 - val_loss: 0.6905 - val_acc: 0.6650\n",
      "Epoch 10/15\n",
      "20978/20978 [==============================] - 30s 1ms/step - loss: 0.6906 - acc: 0.6472 - val_loss: 0.6905 - val_acc: 0.6672\n",
      "Epoch 11/15\n",
      "20978/20978 [==============================] - 30s 1ms/step - loss: 0.6905 - acc: 0.6510 - val_loss: 0.6904 - val_acc: 0.6690\n",
      "Epoch 12/15\n",
      "20978/20978 [==============================] - 30s 1ms/step - loss: 0.6905 - acc: 0.6522 - val_loss: 0.6904 - val_acc: 0.6717\n",
      "Epoch 13/15\n",
      "20978/20978 [==============================] - 30s 1ms/step - loss: 0.6904 - acc: 0.6519 - val_loss: 0.6904 - val_acc: 0.6722\n",
      "Epoch 14/15\n",
      "20978/20978 [==============================] - 30s 1ms/step - loss: 0.6904 - acc: 0.6568 - val_loss: 0.6903 - val_acc: 0.6740\n",
      "Epoch 15/15\n",
      "20978/20978 [==============================] - 30s 1ms/step - loss: 0.6904 - acc: 0.6589 - val_loss: 0.6903 - val_acc: 0.6762\n"
     ]
    },
    {
     "data": {
      "text/plain": [
       "<keras.callbacks.History at 0x7f9227eb9b70>"
      ]
     },
     "execution_count": 67,
     "metadata": {
      "tags": []
     },
     "output_type": "execute_result"
    }
   ],
   "source": [
    "model.fit(X_rus_train,ku.to_categorical(y_rus_train,num_classes=2),epochs=15,\n",
    "    validation_data=(X_val,ku.to_categorical(y_val,num_classes=2)),callbacks=[hist,early],shuffle=True)"
   ]
  },
  {
   "cell_type": "code",
   "execution_count": 0,
   "metadata": {
    "colab": {
     "base_uri": "https://localhost:8080/",
     "height": 269
    },
    "colab_type": "code",
    "executionInfo": {
     "elapsed": 1599,
     "status": "ok",
     "timestamp": 1563226592064,
     "user": {
      "displayName": "Maryam Barouti",
      "photoUrl": "https://lh6.googleusercontent.com/-Wo2mQpeXTgk/AAAAAAAAAAI/AAAAAAAAADg/n5iGHvZGCOo/s64/photo.jpg",
      "userId": "15748171986397641189"
     },
     "user_tz": 360
    },
    "id": "C5p5FFKYTMy8",
    "outputId": "fddbffa5-a4a6-4ef5-c401-f07193898275"
   },
   "outputs": [
    {
     "data": {
      "image/png": "[encoded data removed]",
      "text/plain": [
       "<Figure size 432x288 with 1 Axes>"
      ]
     },
     "metadata": {
      "tags": []
     },
     "output_type": "display_data"
    }
   ],
   "source": [
    "import matplotlib.pyplot as plt\n",
    "plt.plot(hist.history['loss'])\n",
    "plt.plot(hist.history['val_loss'])\n",
    "plt.show()"
   ]
  },
  {
   "cell_type": "code",
   "execution_count": 0,
   "metadata": {
    "colab": {},
    "colab_type": "code",
    "collapsed": true,
    "id": "MUK-3Krf-C7l"
   },
   "outputs": [],
   "source": [
    "y_te_pred=model.predict_classes(X_test)"
   ]
  },
  {
   "cell_type": "code",
   "execution_count": 0,
   "metadata": {
    "colab": {},
    "colab_type": "code",
    "collapsed": true,
    "id": "Rt_pewHpiG2t"
   },
   "outputs": [],
   "source": [
    "y_tr_pred=model.predict_classes(X_train)"
   ]
  },
  {
   "cell_type": "code",
   "execution_count": 0,
   "metadata": {
    "colab": {
     "base_uri": "https://localhost:8080/",
     "height": 119
    },
    "colab_type": "code",
    "executionInfo": {
     "elapsed": 4620,
     "status": "ok",
     "timestamp": 1563226612479,
     "user": {
      "displayName": "Maryam Barouti",
      "photoUrl": "https://lh6.googleusercontent.com/-Wo2mQpeXTgk/AAAAAAAAAAI/AAAAAAAAADg/n5iGHvZGCOo/s64/photo.jpg",
      "userId": "15748171986397641189"
     },
     "user_tz": 360
    },
    "id": "fNtyH9djhfQF",
    "outputId": "342cb829-f2c4-4ca9-e78d-8cea1fba23f1"
   },
   "outputs": [
    {
     "name": "stdout",
     "output_type": "stream",
     "text": [
      "0.8188170701272772\n",
      "0.8043126684636118\n"
     ]
    },
    {
     "data": {
      "text/plain": [
       "(array([0.87013619, 0.76473603]),\n",
       " array([0.79581851, 0.84820921]),\n",
       " array([0.8313197 , 0.80431267]),\n",
       " array([2248, 1759]))"
      ]
     },
     "execution_count": 64,
     "metadata": {
      "tags": []
     },
     "output_type": "execute_result"
    }
   ],
   "source": [
    "from sklearn.metrics import accuracy_score,f1_score,precision_recall_fscore_support\n",
    "print(accuracy_score(y_test,y_te_pred))\n",
    "print(f1_score(y_test,y_te_pred))\n",
    "precision_recall_fscore_support(y_test,y_te_pred)"
   ]
  },
  {
   "cell_type": "code",
   "execution_count": 0,
   "metadata": {
    "colab": {
     "base_uri": "https://localhost:8080/",
     "height": 119
    },
    "colab_type": "code",
    "executionInfo": {
     "elapsed": 3167,
     "status": "ok",
     "timestamp": 1563226612481,
     "user": {
      "displayName": "Maryam Barouti",
      "photoUrl": "https://lh6.googleusercontent.com/-Wo2mQpeXTgk/AAAAAAAAAAI/AAAAAAAAADg/n5iGHvZGCOo/s64/photo.jpg",
      "userId": "15748171986397641189"
     },
     "user_tz": 360
    },
    "id": "FSp9XFIliJBs",
    "outputId": "c662653d-4a12-463e-bf73-a2706b9504d5"
   },
   "outputs": [
    {
     "name": "stdout",
     "output_type": "stream",
     "text": [
      "0.8811510483525888\n",
      "0.8717386284922651\n"
     ]
    },
    {
     "data": {
      "text/plain": [
       "(array([0.93151686, 0.82823297]),\n",
       " array([0.85070073, 0.92006823]),\n",
       " array([0.88927646, 0.87173863]),\n",
       " array([10489,  8207]))"
      ]
     },
     "execution_count": 65,
     "metadata": {
      "tags": []
     },
     "output_type": "execute_result"
    }
   ],
   "source": [
    "print(accuracy_score(y_train,y_tr_pred))\n",
    "print(f1_score(y_train,y_tr_pred))\n",
    "precision_recall_fscore_support(y_train,y_tr_pred)"
   ]
  }
 ],
 "metadata": {
  "accelerator": "GPU",
  "colab": {
   "collapsed_sections": [],
   "name": "sarcasm_lstm_keras.ipynb",
   "provenance": [],
   "version": "0.3.2"
  },
  "kernelspec": {
   "display_name": "Python 3",
   "language": "python",
   "name": "python3"
  },
  "language_info": {
   "codemirror_mode": {
    "name": "ipython",
    "version": 3
   },
   "file_extension": ".py",
   "mimetype": "text/x-python",
   "name": "python",
   "nbconvert_exporter": "python",
   "pygments_lexer": "ipython3",
   "version": "3.6.8"
  }
 },
 "nbformat": 4,
 "nbformat_minor": 1
}
