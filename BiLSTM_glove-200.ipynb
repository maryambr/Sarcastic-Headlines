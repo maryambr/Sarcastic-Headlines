{
 "cells": [
  {
   "cell_type": "code",
   "execution_count": 1,
   "metadata": {
    "colab": {
     "base_uri": "https://localhost:8080/",
     "height": 229
    },
    "colab_type": "code",
    "executionInfo": {
     "elapsed": 28526,
     "status": "ok",
     "timestamp": 1563292902318,
     "user": {
      "displayName": "Maryam Barouti",
      "photoUrl": "https://lh6.googleusercontent.com/-Wo2mQpeXTgk/AAAAAAAAAAI/AAAAAAAAADg/n5iGHvZGCOo/s64/photo.jpg",
      "userId": "15748171986397641189"
     },
     "user_tz": 360
    },
    "id": "jG2UgC-_wSwV",
    "outputId": "d8685a92-9c16-4985-d7ad-2104805f853e"
   },
   "outputs": [
    {
     "name": "stdout",
     "output_type": "stream",
     "text": [
      "Go to this URL in a browser: https://accounts.google.com/o/oauth2/auth?client_id=947318989803-6bn6qk8qdgf4n4g3pfee6491hc0brc4i.apps.googleusercontent.com&redirect_uri=urn%3Aietf%3Awg%3Aoauth%3A2.0%3Aoob&scope=email%20https%3A%2F%2Fwww.googleapis.com%2Fauth%2Fdocs.test%20https%3A%2F%2Fwww.googleapis.com%2Fauth%2Fdrive%20https%3A%2F%2Fwww.googleapis.com%2Fauth%2Fdrive.photos.readonly%20https%3A%2F%2Fwww.googleapis.com%2Fauth%2Fpeopleapi.readonly&response_type=code\n",
      "\n",
      "Enter your authorization code:\n",
      "··········\n",
      "Mounted at /content/drive\n"
     ]
    }
   ],
   "source": [
    "import numpy as np\n",
    "np.random.seed(42)\n",
    "from google.colab import drive\n",
    "drive.mount('/content/drive')"
   ]
  },
  {
   "cell_type": "code",
   "execution_count": 0,
   "metadata": {
    "colab": {},
    "colab_type": "code",
    "collapsed": true,
    "id": "D6EjH38Iw3l_"
   },
   "outputs": [],
   "source": [
    "import pandas as pd\n",
    "data=pd.read_json(\"/content/drive/My Drive/sarcasm/Sarcasm_Headlines_Dataset.json\", lines=True)"
   ]
  },
  {
   "cell_type": "code",
   "execution_count": 0,
   "metadata": {
    "colab": {},
    "colab_type": "code",
    "collapsed": true,
    "id": "4Odq1gg0w-b5"
   },
   "outputs": [],
   "source": [
    "text = data.headline.tolist()\n",
    "label = np.array(data.is_sarcastic.tolist())"
   ]
  },
  {
   "cell_type": "code",
   "execution_count": 4,
   "metadata": {
    "colab": {
     "base_uri": "https://localhost:8080/",
     "height": 34
    },
    "colab_type": "code",
    "executionInfo": {
     "elapsed": 32324,
     "status": "ok",
     "timestamp": 1563292906128,
     "user": {
      "displayName": "Maryam Barouti",
      "photoUrl": "https://lh6.googleusercontent.com/-Wo2mQpeXTgk/AAAAAAAAAAI/AAAAAAAAADg/n5iGHvZGCOo/s64/photo.jpg",
      "userId": "15748171986397641189"
     },
     "user_tz": 360
    },
    "id": "q-_BRzq1xATu",
    "outputId": "c9417824-55a2-4376-9a5b-0ea1eadca039"
   },
   "outputs": [
    {
     "name": "stderr",
     "output_type": "stream",
     "text": [
      "Using TensorFlow backend.\n"
     ]
    }
   ],
   "source": [
    "import keras\n",
    "\n",
    "from keras.preprocessing.text import Tokenizer\n",
    "# create the tokenizer\n",
    "t = Tokenizer()\n",
    "# fit the tokenizer on the documents\n",
    "seq=t.fit_on_texts(text)"
   ]
  },
  {
   "cell_type": "code",
   "execution_count": 0,
   "metadata": {
    "colab": {},
    "colab_type": "code",
    "collapsed": true,
    "id": "no3GuwjFxC-j"
   },
   "outputs": [],
   "source": [
    "sequences = t.texts_to_sequences(text)"
   ]
  },
  {
   "cell_type": "code",
   "execution_count": 6,
   "metadata": {
    "colab": {
     "base_uri": "https://localhost:8080/",
     "height": 34
    },
    "colab_type": "code",
    "executionInfo": {
     "elapsed": 30238,
     "status": "ok",
     "timestamp": 1563292938393,
     "user": {
      "displayName": "Maryam Barouti",
      "photoUrl": "https://lh6.googleusercontent.com/-Wo2mQpeXTgk/AAAAAAAAAAI/AAAAAAAAADg/n5iGHvZGCOo/s64/photo.jpg",
      "userId": "15748171986397641189"
     },
     "user_tz": 360
    },
    "id": "_sxrQ6icydAO",
    "outputId": "acb8bd1f-2baf-4dbb-d4b1-09f46fc11a8c"
   },
   "outputs": [
    {
     "name": "stdout",
     "output_type": "stream",
     "text": [
      "GloVe data loaded\n"
     ]
    }
   ],
   "source": [
    "embeddings_index = {}\n",
    "f = open('/content/drive/My Drive/sarcasm/glove.6B.200d.txt')\n",
    "for line in f:\n",
    "    values = line.split(' ')\n",
    "    word = values[0] ## The first entry is the word\n",
    "    coefs = np.asarray(values[1:], dtype='float32') ## These are the vecotrs representing the embedding for the word\n",
    "    embeddings_index[word] = coefs\n",
    "f.close()\n",
    "\n",
    "print('GloVe data loaded')"
   ]
  },
  {
   "cell_type": "code",
   "execution_count": 0,
   "metadata": {
    "colab": {},
    "colab_type": "code",
    "collapsed": true,
    "id": "XBqSuq9R1yyy"
   },
   "outputs": [],
   "source": [
    "vocab_size=len(t.word_index)\n",
    "word_index = t.word_index"
   ]
  },
  {
   "cell_type": "code",
   "execution_count": 0,
   "metadata": {
    "colab": {},
    "colab_type": "code",
    "collapsed": true,
    "id": "kVW2QpVz1hwB"
   },
   "outputs": [],
   "source": [
    "EMBEDDING_DIM = embeddings_index.get('the').shape[0]\n",
    "embedding_matrix = np.zeros((vocab_size+1, EMBEDDING_DIM))\n",
    "for word, i in word_index.items():\n",
    "    if i > vocab_size:\n",
    "        continue\n",
    "    embedding_vector = embeddings_index.get(word) ## This references the loaded embeddings dictionary\n",
    "    if embedding_vector is not None:\n",
    "        # words not found in embedding index will be all-zeros.\n",
    "        embedding_matrix[i] = embedding_vector"
   ]
  },
  {
   "cell_type": "code",
   "execution_count": 10,
   "metadata": {
    "colab": {
     "base_uri": "https://localhost:8080/",
     "height": 34
    },
    "colab_type": "code",
    "executionInfo": {
     "elapsed": 923,
     "status": "ok",
     "timestamp": 1563292975873,
     "user": {
      "displayName": "Maryam Barouti",
      "photoUrl": "https://lh6.googleusercontent.com/-Wo2mQpeXTgk/AAAAAAAAAAI/AAAAAAAAADg/n5iGHvZGCOo/s64/photo.jpg",
      "userId": "15748171986397641189"
     },
     "user_tz": 360
    },
    "id": "_LpOfF3R2waF",
    "outputId": "767ec18e-583e-45fb-af24-bfedea116f8a"
   },
   "outputs": [
    {
     "data": {
      "text/plain": [
       "(29657, 200)"
      ]
     },
     "execution_count": 10,
     "metadata": {
      "tags": []
     },
     "output_type": "execute_result"
    }
   ],
   "source": [
    "embedding_matrix.shape"
   ]
  },
  {
   "cell_type": "code",
   "execution_count": 0,
   "metadata": {
    "colab": {},
    "colab_type": "code",
    "collapsed": true,
    "id": "cHaaSjRcxE2X"
   },
   "outputs": [],
   "source": [
    "from keras.preprocessing.sequence import pad_sequences\n",
    "train=pad_sequences(sequences, maxlen=100,padding='pre')"
   ]
  },
  {
   "cell_type": "code",
   "execution_count": 0,
   "metadata": {
    "colab": {},
    "colab_type": "code",
    "collapsed": true,
    "id": "erhWz01qxGrt"
   },
   "outputs": [],
   "source": [
    "from sklearn.model_selection import train_test_split\n",
    "\n",
    "X_train,X_testVal,y_train,y_testVal=train_test_split(train,label,test_size=0.3,stratify=label)\n",
    "X_val,X_test,y_val,y_test=train_test_split(X_testVal,y_testVal,test_size=0.5,stratify=y_testVal)"
   ]
  },
  {
   "cell_type": "code",
   "execution_count": 13,
   "metadata": {
    "colab": {
     "base_uri": "https://localhost:8080/",
     "height": 131
    },
    "colab_type": "code",
    "executionInfo": {
     "elapsed": 867,
     "status": "ok",
     "timestamp": 1563292986834,
     "user": {
      "displayName": "Maryam Barouti",
      "photoUrl": "https://lh6.googleusercontent.com/-Wo2mQpeXTgk/AAAAAAAAAAI/AAAAAAAAADg/n5iGHvZGCOo/s64/photo.jpg",
      "userId": "15748171986397641189"
     },
     "user_tz": 360
    },
    "id": "bmU8tYMuxI5U",
    "outputId": "80fd4ec5-f37f-4925-d520-bd340bc6922b"
   },
   "outputs": [
    {
     "name": "stderr",
     "output_type": "stream",
     "text": [
      "/usr/local/lib/python3.6/dist-packages/sklearn/externals/six.py:31: DeprecationWarning: The module is deprecated in version 0.21 and will be removed in version 0.23 since we've dropped support for Python 2.7. Please rely on the official version of six (https://pypi.org/project/six/).\n",
      "  \"(https://pypi.org/project/six/).\", DeprecationWarning)\n"
     ]
    }
   ],
   "source": [
    "from imblearn.over_sampling import RandomOverSampler\n",
    "rus = RandomOverSampler(return_indices=True)\n",
    "X_rus_train, y_rus_train, id_rus = rus.fit_sample(X_train, y_train)"
   ]
  },
  {
   "cell_type": "code",
   "execution_count": 66,
   "metadata": {
    "colab": {
     "base_uri": "https://localhost:8080/",
     "height": 34
    },
    "colab_type": "code",
    "executionInfo": {
     "elapsed": 977,
     "status": "ok",
     "timestamp": 1563294685291,
     "user": {
      "displayName": "Maryam Barouti",
      "photoUrl": "https://lh6.googleusercontent.com/-Wo2mQpeXTgk/AAAAAAAAAAI/AAAAAAAAADg/n5iGHvZGCOo/s64/photo.jpg",
      "userId": "15748171986397641189"
     },
     "user_tz": 360
    },
    "id": "B4PMQEArn7I9",
    "outputId": "a81c2d06-a2a5-440a-c9c8-4f84ced4b903"
   },
   "outputs": [
    {
     "data": {
      "text/plain": [
       "(20978, 100)"
      ]
     },
     "execution_count": 66,
     "metadata": {
      "tags": []
     },
     "output_type": "execute_result"
    }
   ],
   "source": [
    "X_rus_train.shape"
   ]
  },
  {
   "cell_type": "code",
   "execution_count": 0,
   "metadata": {
    "colab": {},
    "colab_type": "code",
    "collapsed": true,
    "id": "axiHRQfyxLN0"
   },
   "outputs": [],
   "source": [
    "from keras.callbacks import History,EarlyStopping\n",
    "hist=History()\n",
    "early=EarlyStopping(monitor='val_loss', patience=3, mode='auto', restore_best_weights=False)"
   ]
  },
  {
   "cell_type": "code",
   "execution_count": 0,
   "metadata": {
    "colab": {},
    "colab_type": "code",
    "collapsed": true,
    "id": "GU5EvqzfxL8U"
   },
   "outputs": [],
   "source": [
    "from keras.layers import Embedding, CuDNNLSTM, Dense, Dropout, Bidirectional, Flatten\n",
    "from keras.models import Sequential\n",
    "from keras import optimizers\n",
    "import keras.utils as ku\n",
    "from keras import regularizers\n",
    "opt=optimizers.adam(lr=1.5e-5)\n",
    "model=Sequential()\n",
    "model.add(Embedding(input_dim=29657,output_dim=200,input_shape=(100,),embeddings_initializer='uniform',weights= [embedding_matrix]))\n",
    "model.add(Bidirectional(CuDNNLSTM(20,return_sequences=True)))\n",
    "\n",
    "model.add(Flatten())\n",
    "model.add(Dropout(0.5))\n",
    "model.add(Dense(2,activation='softmax'))\n",
    "model.compile(loss='categorical_crossentropy',optimizer=opt,metrics=['accuracy'])"
   ]
  },
  {
   "cell_type": "code",
   "execution_count": 98,
   "metadata": {
    "colab": {
     "base_uri": "https://localhost:8080/",
     "height": 561
    },
    "colab_type": "code",
    "executionInfo": {
     "elapsed": 454964,
     "status": "ok",
     "timestamp": 1563316414942,
     "user": {
      "displayName": "Maryam Barouti",
      "photoUrl": "https://lh6.googleusercontent.com/-Wo2mQpeXTgk/AAAAAAAAAAI/AAAAAAAAADg/n5iGHvZGCOo/s64/photo.jpg",
      "userId": "15748171986397641189"
     },
     "user_tz": 360
    },
    "id": "9PgVHeR5xPDG",
    "outputId": "8e8f7264-1c39-4ed9-95e6-9a9ecdd91ebc"
   },
   "outputs": [
    {
     "name": "stdout",
     "output_type": "stream",
     "text": [
      "Train on 20978 samples, validate on 4006 samples\n",
      "Epoch 1/15\n",
      "20978/20978 [==============================] - 33s 2ms/step - loss: 0.6888 - acc: 0.5360 - val_loss: 0.6804 - val_acc: 0.6101\n",
      "Epoch 2/15\n",
      "20978/20978 [==============================] - 30s 1ms/step - loss: 0.6777 - acc: 0.5878 - val_loss: 0.6692 - val_acc: 0.6613\n",
      "Epoch 3/15\n",
      "20978/20978 [==============================] - 30s 1ms/step - loss: 0.6588 - acc: 0.6449 - val_loss: 0.6439 - val_acc: 0.6955\n",
      "Epoch 4/15\n",
      "20978/20978 [==============================] - 30s 1ms/step - loss: 0.6179 - acc: 0.7064 - val_loss: 0.5882 - val_acc: 0.7229\n",
      "Epoch 5/15\n",
      "20978/20978 [==============================] - 30s 1ms/step - loss: 0.5405 - acc: 0.7486 - val_loss: 0.5178 - val_acc: 0.7516\n",
      "Epoch 6/15\n",
      "20978/20978 [==============================] - 30s 1ms/step - loss: 0.4805 - acc: 0.7748 - val_loss: 0.4835 - val_acc: 0.7768\n",
      "Epoch 7/15\n",
      "20978/20978 [==============================] - 30s 1ms/step - loss: 0.4462 - acc: 0.7934 - val_loss: 0.4651 - val_acc: 0.7868\n",
      "Epoch 8/15\n",
      "20978/20978 [==============================] - 30s 1ms/step - loss: 0.4215 - acc: 0.8072 - val_loss: 0.4472 - val_acc: 0.7988\n",
      "Epoch 9/15\n",
      "20978/20978 [==============================] - 30s 1ms/step - loss: 0.4011 - acc: 0.8211 - val_loss: 0.4372 - val_acc: 0.8010\n",
      "Epoch 10/15\n",
      "20978/20978 [==============================] - 30s 1ms/step - loss: 0.3826 - acc: 0.8318 - val_loss: 0.4306 - val_acc: 0.8045\n",
      "Epoch 11/15\n",
      "20978/20978 [==============================] - 30s 1ms/step - loss: 0.3676 - acc: 0.8406 - val_loss: 0.4164 - val_acc: 0.8158\n",
      "Epoch 12/15\n",
      "20978/20978 [==============================] - 30s 1ms/step - loss: 0.3529 - acc: 0.8474 - val_loss: 0.4066 - val_acc: 0.8215\n",
      "Epoch 13/15\n",
      "20978/20978 [==============================] - 30s 1ms/step - loss: 0.3403 - acc: 0.8538 - val_loss: 0.4079 - val_acc: 0.8198\n",
      "Epoch 14/15\n",
      "20978/20978 [==============================] - 30s 1ms/step - loss: 0.3275 - acc: 0.8613 - val_loss: 0.4002 - val_acc: 0.8260\n",
      "Epoch 15/15\n",
      "20978/20978 [==============================] - 30s 1ms/step - loss: 0.3154 - acc: 0.8669 - val_loss: 0.3917 - val_acc: 0.8298\n"
     ]
    },
    {
     "data": {
      "text/plain": [
       "<keras.callbacks.History at 0x7f39c4e321d0>"
      ]
     },
     "execution_count": 98,
     "metadata": {
      "tags": []
     },
     "output_type": "execute_result"
    }
   ],
   "source": [
    "model.fit(X_rus_train,ku.to_categorical(y_rus_train,num_classes=2),epochs=15,\n",
    "    validation_data=(X_val,ku.to_categorical(y_val,num_classes=2)),callbacks=[hist,early],shuffle=True)"
   ]
  },
  {
   "cell_type": "code",
   "execution_count": 99,
   "metadata": {
    "colab": {
     "base_uri": "https://localhost:8080/",
     "height": 269
    },
    "colab_type": "code",
    "executionInfo": {
     "elapsed": 1162,
     "status": "ok",
     "timestamp": 1563316423060,
     "user": {
      "displayName": "Maryam Barouti",
      "photoUrl": "https://lh6.googleusercontent.com/-Wo2mQpeXTgk/AAAAAAAAAAI/AAAAAAAAADg/n5iGHvZGCOo/s64/photo.jpg",
      "userId": "15748171986397641189"
     },
     "user_tz": 360
    },
    "id": "errRvBYW4cbh",
    "outputId": "3a8e41ee-0917-4b08-bcad-a886c2501a39"
   },
   "outputs": [
    {
     "data": {
      "image/png": "[encoded data removed]",
      "text/plain": [
       "<Figure size 432x288 with 1 Axes>"
      ]
     },
     "metadata": {
      "tags": []
     },
     "output_type": "display_data"
    }
   ],
   "source": [
    "import matplotlib.pyplot as plt\n",
    "plt.plot(hist.history['loss'])\n",
    "plt.plot(hist.history['val_loss'])\n",
    "plt.show()"
   ]
  },
  {
   "cell_type": "code",
   "execution_count": 0,
   "metadata": {
    "colab": {},
    "colab_type": "code",
    "collapsed": true,
    "id": "h8iWT7C56Eb2"
   },
   "outputs": [],
   "source": [
    "y_te_pred=model.predict_classes(X_test)\n",
    "y_tr_pred=model.predict_classes(X_train)"
   ]
  },
  {
   "cell_type": "code",
   "execution_count": 101,
   "metadata": {
    "colab": {
     "base_uri": "https://localhost:8080/",
     "height": 170
    },
    "colab_type": "code",
    "executionInfo": {
     "elapsed": 9887,
     "status": "ok",
     "timestamp": 1563316436934,
     "user": {
      "displayName": "Maryam Barouti",
      "photoUrl": "https://lh6.googleusercontent.com/-Wo2mQpeXTgk/AAAAAAAAAAI/AAAAAAAAADg/n5iGHvZGCOo/s64/photo.jpg",
      "userId": "15748171986397641189"
     },
     "user_tz": 360
    },
    "id": "M3X3rtxo6PR4",
    "outputId": "a11dfb81-82b1-4a59-cccd-9ea70858e426"
   },
   "outputs": [
    {
     "name": "stdout",
     "output_type": "stream",
     "text": [
      "              precision    recall  f1-score   support\n",
      "\n",
      "           0       0.82      0.86      0.84      2142\n",
      "           1       0.83      0.79      0.81      1865\n",
      "\n",
      "    accuracy                           0.83      4007\n",
      "   macro avg       0.83      0.83      0.83      4007\n",
      "weighted avg       0.83      0.83      0.83      4007\n",
      "\n"
     ]
    }
   ],
   "source": [
    "from sklearn.metrics import accuracy_score,f1_score,precision_recall_fscore_support,classification_report\n",
    "precision, recall, fscore, support = precision_recall_fscore_support(y_te_pred, y_test)\n",
    "print(classification_report(y_te_pred, y_test))"
   ]
  },
  {
   "cell_type": "code",
   "execution_count": 102,
   "metadata": {
    "colab": {
     "base_uri": "https://localhost:8080/",
     "height": 170
    },
    "colab_type": "code",
    "executionInfo": {
     "elapsed": 908,
     "status": "ok",
     "timestamp": 1563316441748,
     "user": {
      "displayName": "Maryam Barouti",
      "photoUrl": "https://lh6.googleusercontent.com/-Wo2mQpeXTgk/AAAAAAAAAAI/AAAAAAAAADg/n5iGHvZGCOo/s64/photo.jpg",
      "userId": "15748171986397641189"
     },
     "user_tz": 360
    },
    "id": "uNz3Lzmh6Q_P",
    "outputId": "fcbc30b2-66ba-43d3-9a14-f2b89f49b940"
   },
   "outputs": [
    {
     "name": "stdout",
     "output_type": "stream",
     "text": [
      "              precision    recall  f1-score   support\n",
      "\n",
      "           0       0.86      0.90      0.88     10118\n",
      "           1       0.87      0.83      0.85      8578\n",
      "\n",
      "    accuracy                           0.87     18696\n",
      "   macro avg       0.87      0.87      0.87     18696\n",
      "weighted avg       0.87      0.87      0.87     18696\n",
      "\n"
     ]
    }
   ],
   "source": [
    "precision, recall, fscore, support = precision_recall_fscore_support(y_tr_pred, y_train)\n",
    "print(classification_report(y_tr_pred, y_train))"
   ]
  }
 ],
 "metadata": {
  "accelerator": "GPU",
  "colab": {
   "collapsed_sections": [],
   "name": "BiLSTM_glove-200.ipynb",
   "provenance": [],
   "version": "0.3.2"
  },
  "kernelspec": {
   "display_name": "Python 3",
   "language": "python",
   "name": "python3"
  },
  "language_info": {
   "codemirror_mode": {
    "name": "ipython",
    "version": 3
   },
   "file_extension": ".py",
   "mimetype": "text/x-python",
   "name": "python",
   "nbconvert_exporter": "python",
   "pygments_lexer": "ipython3",
   "version": "3.6.8"
  }
 },
 "nbformat": 4,
 "nbformat_minor": 1
}
