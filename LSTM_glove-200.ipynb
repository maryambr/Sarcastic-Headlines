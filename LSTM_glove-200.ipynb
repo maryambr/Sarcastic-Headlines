{
 "cells": [
  {
   "cell_type": "code",
   "execution_count": 1,
   "metadata": {
    "colab": {
     "base_uri": "https://localhost:8080/",
     "height": 34
    },
    "colab_type": "code",
    "executionInfo": {
     "elapsed": 1771,
     "status": "ok",
     "timestamp": 1563316591833,
     "user": {
      "displayName": "Maryam Barouti",
      "photoUrl": "https://lh6.googleusercontent.com/-Wo2mQpeXTgk/AAAAAAAAAAI/AAAAAAAAADg/n5iGHvZGCOo/s64/photo.jpg",
      "userId": "15748171986397641189"
     },
     "user_tz": 360
    },
    "id": "jG2UgC-_wSwV",
    "outputId": "65195c42-9710-4e3f-983c-36e3e0259d8b"
   },
   "outputs": [
    {
     "name": "stdout",
     "output_type": "stream",
     "text": [
      "Drive already mounted at /content/drive; to attempt to forcibly remount, call drive.mount(\"/content/drive\", force_remount=True).\n"
     ]
    }
   ],
   "source": [
    "import numpy as np\n",
    "np.random.seed(42)\n",
    "from google.colab import drive\n",
    "drive.mount('/content/drive')"
   ]
  },
  {
   "cell_type": "code",
   "execution_count": 0,
   "metadata": {
    "colab": {},
    "colab_type": "code",
    "collapsed": true,
    "id": "D6EjH38Iw3l_"
   },
   "outputs": [],
   "source": [
    "import pandas as pd\n",
    "data=pd.read_json(\"/content/drive/My Drive/sarcasm/Sarcasm_Headlines_Dataset.json\", lines=True)"
   ]
  },
  {
   "cell_type": "code",
   "execution_count": 0,
   "metadata": {
    "colab": {},
    "colab_type": "code",
    "collapsed": true,
    "id": "4Odq1gg0w-b5"
   },
   "outputs": [],
   "source": [
    "text = data.headline.tolist()\n",
    "label = np.array(data.is_sarcastic.tolist())"
   ]
  },
  {
   "cell_type": "code",
   "execution_count": 4,
   "metadata": {
    "colab": {
     "base_uri": "https://localhost:8080/",
     "height": 34
    },
    "colab_type": "code",
    "executionInfo": {
     "elapsed": 2797,
     "status": "ok",
     "timestamp": 1563316599034,
     "user": {
      "displayName": "Maryam Barouti",
      "photoUrl": "https://lh6.googleusercontent.com/-Wo2mQpeXTgk/AAAAAAAAAAI/AAAAAAAAADg/n5iGHvZGCOo/s64/photo.jpg",
      "userId": "15748171986397641189"
     },
     "user_tz": 360
    },
    "id": "q-_BRzq1xATu",
    "outputId": "c9c00dfb-c4b1-45db-d1c6-ebc6947271ac"
   },
   "outputs": [
    {
     "name": "stderr",
     "output_type": "stream",
     "text": [
      "Using TensorFlow backend.\n"
     ]
    }
   ],
   "source": [
    "import keras\n",
    "\n",
    "from keras.preprocessing.text import Tokenizer\n",
    "# create the tokenizer\n",
    "t = Tokenizer()\n",
    "# fit the tokenizer on the documents\n",
    "seq=t.fit_on_texts(text)"
   ]
  },
  {
   "cell_type": "code",
   "execution_count": 0,
   "metadata": {
    "colab": {},
    "colab_type": "code",
    "collapsed": true,
    "id": "no3GuwjFxC-j"
   },
   "outputs": [],
   "source": [
    "sequences = t.texts_to_sequences(text)"
   ]
  },
  {
   "cell_type": "code",
   "execution_count": 6,
   "metadata": {
    "colab": {
     "base_uri": "https://localhost:8080/",
     "height": 34
    },
    "colab_type": "code",
    "executionInfo": {
     "elapsed": 23228,
     "status": "ok",
     "timestamp": 1563316623811,
     "user": {
      "displayName": "Maryam Barouti",
      "photoUrl": "https://lh6.googleusercontent.com/-Wo2mQpeXTgk/AAAAAAAAAAI/AAAAAAAAADg/n5iGHvZGCOo/s64/photo.jpg",
      "userId": "15748171986397641189"
     },
     "user_tz": 360
    },
    "id": "_sxrQ6icydAO",
    "outputId": "7562cb6a-677c-44ba-9a0b-fb0e481844a2"
   },
   "outputs": [
    {
     "name": "stdout",
     "output_type": "stream",
     "text": [
      "GloVe data loaded\n"
     ]
    }
   ],
   "source": [
    "embeddings_index = {}\n",
    "f = open('/content/drive/My Drive/sarcasm/glove.6B.200d.txt')\n",
    "for line in f:\n",
    "    values = line.split(' ')\n",
    "    word = values[0] ## The first entry is the word\n",
    "    coefs = np.asarray(values[1:], dtype='float32') ## These are the vecotrs representing the embedding for the word\n",
    "    embeddings_index[word] = coefs\n",
    "f.close()\n",
    "\n",
    "print('GloVe data loaded')"
   ]
  },
  {
   "cell_type": "code",
   "execution_count": 0,
   "metadata": {
    "colab": {},
    "colab_type": "code",
    "collapsed": true,
    "id": "XBqSuq9R1yyy"
   },
   "outputs": [],
   "source": [
    "vocab_size=len(t.word_index)\n",
    "word_index = t.word_index"
   ]
  },
  {
   "cell_type": "code",
   "execution_count": 0,
   "metadata": {
    "colab": {},
    "colab_type": "code",
    "collapsed": true,
    "id": "kVW2QpVz1hwB"
   },
   "outputs": [],
   "source": [
    "EMBEDDING_DIM = embeddings_index.get('the').shape[0]\n",
    "embedding_matrix = np.zeros((vocab_size+1, EMBEDDING_DIM))\n",
    "for word, i in word_index.items():\n",
    "    if i > vocab_size:\n",
    "        continue\n",
    "    embedding_vector = embeddings_index.get(word) ## This references the loaded embeddings dictionary\n",
    "    if embedding_vector is not None:\n",
    "        # words not found in embedding index will be all-zeros.\n",
    "        embedding_matrix[i] = embedding_vector"
   ]
  },
  {
   "cell_type": "code",
   "execution_count": 9,
   "metadata": {
    "colab": {
     "base_uri": "https://localhost:8080/",
     "height": 34
    },
    "colab_type": "code",
    "executionInfo": {
     "elapsed": 631,
     "status": "ok",
     "timestamp": 1563316630218,
     "user": {
      "displayName": "Maryam Barouti",
      "photoUrl": "https://lh6.googleusercontent.com/-Wo2mQpeXTgk/AAAAAAAAAAI/AAAAAAAAADg/n5iGHvZGCOo/s64/photo.jpg",
      "userId": "15748171986397641189"
     },
     "user_tz": 360
    },
    "id": "_LpOfF3R2waF",
    "outputId": "6d4a4673-0923-48e9-f376-df2ecd56fdb6"
   },
   "outputs": [
    {
     "data": {
      "text/plain": [
       "(29657, 200)"
      ]
     },
     "execution_count": 9,
     "metadata": {
      "tags": []
     },
     "output_type": "execute_result"
    }
   ],
   "source": [
    "embedding_matrix.shape"
   ]
  },
  {
   "cell_type": "code",
   "execution_count": 0,
   "metadata": {
    "colab": {},
    "colab_type": "code",
    "collapsed": true,
    "id": "cHaaSjRcxE2X"
   },
   "outputs": [],
   "source": [
    "from keras.preprocessing.sequence import pad_sequences\n",
    "train=pad_sequences(sequences, maxlen=100,padding='pre')"
   ]
  },
  {
   "cell_type": "code",
   "execution_count": 0,
   "metadata": {
    "colab": {},
    "colab_type": "code",
    "collapsed": true,
    "id": "erhWz01qxGrt"
   },
   "outputs": [],
   "source": [
    "from sklearn.model_selection import train_test_split\n",
    "\n",
    "X_train,X_testVal,y_train,y_testVal=train_test_split(train,label,test_size=0.3,stratify=label)\n",
    "X_val,X_test,y_val,y_test=train_test_split(X_testVal,y_testVal,test_size=0.5,stratify=y_testVal)"
   ]
  },
  {
   "cell_type": "code",
   "execution_count": 13,
   "metadata": {
    "colab": {
     "base_uri": "https://localhost:8080/",
     "height": 131
    },
    "colab_type": "code",
    "executionInfo": {
     "elapsed": 596,
     "status": "ok",
     "timestamp": 1563316643033,
     "user": {
      "displayName": "Maryam Barouti",
      "photoUrl": "https://lh6.googleusercontent.com/-Wo2mQpeXTgk/AAAAAAAAAAI/AAAAAAAAADg/n5iGHvZGCOo/s64/photo.jpg",
      "userId": "15748171986397641189"
     },
     "user_tz": 360
    },
    "id": "bmU8tYMuxI5U",
    "outputId": "a17fe2b1-4199-4e4a-b639-b21328595458"
   },
   "outputs": [
    {
     "name": "stderr",
     "output_type": "stream",
     "text": [
      "/usr/local/lib/python3.6/dist-packages/sklearn/externals/six.py:31: DeprecationWarning: The module is deprecated in version 0.21 and will be removed in version 0.23 since we've dropped support for Python 2.7. Please rely on the official version of six (https://pypi.org/project/six/).\n",
      "  \"(https://pypi.org/project/six/).\", DeprecationWarning)\n"
     ]
    }
   ],
   "source": [
    "from imblearn.over_sampling import RandomOverSampler\n",
    "rus = RandomOverSampler(return_indices=True)\n",
    "X_rus_train, y_rus_train, id_rus = rus.fit_sample(X_train, y_train)"
   ]
  },
  {
   "cell_type": "code",
   "execution_count": 0,
   "metadata": {
    "colab": {},
    "colab_type": "code",
    "collapsed": true,
    "id": "axiHRQfyxLN0"
   },
   "outputs": [],
   "source": [
    "from keras.callbacks import History,EarlyStopping\n",
    "hist=History()\n",
    "early=EarlyStopping(monitor='val_loss', patience=3, mode='auto', restore_best_weights=False)"
   ]
  },
  {
   "cell_type": "code",
   "execution_count": 0,
   "metadata": {
    "colab": {},
    "colab_type": "code",
    "collapsed": true,
    "id": "GU5EvqzfxL8U"
   },
   "outputs": [],
   "source": [
    "from keras.layers import Embedding, CuDNNLSTM, Dense, Dropout\n",
    "from keras.models import Sequential\n",
    "from keras import optimizers\n",
    "import keras.utils as ku\n",
    "from keras import regularizers\n",
    "opt=optimizers.adam(lr=1.5e-5)\n",
    "model=Sequential()\n",
    "model.add(Embedding(input_dim=29657,output_dim=200,embeddings_initializer='uniform',weights= [embedding_matrix]))\n",
    "model.add(CuDNNLSTM(200,return_sequences=True))\n",
    "model.add(CuDNNLSTM(200))\n",
    "model.add(Dropout(0.5))\n",
    "model.add(Dense(2,activation='softmax'))\n",
    "model.compile(loss='categorical_crossentropy',optimizer=opt,metrics=['accuracy'])"
   ]
  },
  {
   "cell_type": "code",
   "execution_count": 17,
   "metadata": {
    "colab": {
     "base_uri": "https://localhost:8080/",
     "height": 1000
    },
    "colab_type": "code",
    "executionInfo": {
     "elapsed": 569048,
     "status": "ok",
     "timestamp": 1563317239157,
     "user": {
      "displayName": "Maryam Barouti",
      "photoUrl": "https://lh6.googleusercontent.com/-Wo2mQpeXTgk/AAAAAAAAAAI/AAAAAAAAADg/n5iGHvZGCOo/s64/photo.jpg",
      "userId": "15748171986397641189"
     },
     "user_tz": 360
    },
    "id": "9PgVHeR5xPDG",
    "outputId": "30cb9794-9c94-43c2-e46a-bd97ac5afb86"
   },
   "outputs": [
    {
     "name": "stderr",
     "output_type": "stream",
     "text": [
      "W0716 22:37:50.359023 139940584204160 deprecation.py:323] From /usr/local/lib/python3.6/dist-packages/tensorflow/python/ops/math_grad.py:1250: add_dispatch_support.<locals>.wrapper (from tensorflow.python.ops.array_ops) is deprecated and will be removed in a future version.\n",
      "Instructions for updating:\n",
      "Use tf.where in 2.0, which has the same broadcast rule as np.where\n"
     ]
    },
    {
     "name": "stdout",
     "output_type": "stream",
     "text": [
      "Train on 20978 samples, validate on 4006 samples\n",
      "Epoch 1/15\n",
      "20978/20978 [==============================] - 39s 2ms/step - loss: 0.6640 - acc: 0.6090 - val_loss: 0.6146 - val_acc: 0.6995\n",
      "Epoch 2/15\n",
      "20978/20978 [==============================] - 38s 2ms/step - loss: 0.5555 - acc: 0.7276 - val_loss: 0.5159 - val_acc: 0.7539\n",
      "Epoch 3/15\n",
      "20978/20978 [==============================] - 38s 2ms/step - loss: 0.4881 - acc: 0.7727 - val_loss: 0.4874 - val_acc: 0.7639\n",
      "Epoch 4/15\n",
      "20978/20978 [==============================] - 38s 2ms/step - loss: 0.4529 - acc: 0.7942 - val_loss: 0.4592 - val_acc: 0.7833\n",
      "Epoch 5/15\n",
      "20978/20978 [==============================] - 38s 2ms/step - loss: 0.4286 - acc: 0.8075 - val_loss: 0.4428 - val_acc: 0.7941\n",
      "Epoch 6/15\n",
      "20978/20978 [==============================] - 38s 2ms/step - loss: 0.4066 - acc: 0.8200 - val_loss: 0.4334 - val_acc: 0.7986\n",
      "Epoch 7/15\n",
      "20978/20978 [==============================] - 38s 2ms/step - loss: 0.3860 - acc: 0.8302 - val_loss: 0.4186 - val_acc: 0.8070\n",
      "Epoch 8/15\n",
      "20978/20978 [==============================] - 38s 2ms/step - loss: 0.3684 - acc: 0.8391 - val_loss: 0.4107 - val_acc: 0.8078\n",
      "Epoch 9/15\n",
      "20978/20978 [==============================] - 38s 2ms/step - loss: 0.3495 - acc: 0.8500 - val_loss: 0.3986 - val_acc: 0.8178\n",
      "Epoch 10/15\n",
      "20978/20978 [==============================] - 38s 2ms/step - loss: 0.3312 - acc: 0.8573 - val_loss: 0.3845 - val_acc: 0.8293\n",
      "Epoch 11/15\n",
      "20978/20978 [==============================] - 38s 2ms/step - loss: 0.3133 - acc: 0.8661 - val_loss: 0.3798 - val_acc: 0.8298\n",
      "Epoch 12/15\n",
      "20978/20978 [==============================] - 38s 2ms/step - loss: 0.2954 - acc: 0.8766 - val_loss: 0.3752 - val_acc: 0.8355\n",
      "Epoch 13/15\n",
      "20978/20978 [==============================] - 38s 2ms/step - loss: 0.2783 - acc: 0.8838 - val_loss: 0.3650 - val_acc: 0.8435\n",
      "Epoch 14/15\n",
      "20978/20978 [==============================] - 38s 2ms/step - loss: 0.2646 - acc: 0.8900 - val_loss: 0.3618 - val_acc: 0.8447\n",
      "Epoch 15/15\n",
      "20978/20978 [==============================] - 38s 2ms/step - loss: 0.2481 - acc: 0.8995 - val_loss: 0.3569 - val_acc: 0.8467\n"
     ]
    },
    {
     "data": {
      "text/plain": [
       "<keras.callbacks.History at 0x7f461b2ab048>"
      ]
     },
     "execution_count": 17,
     "metadata": {
      "tags": []
     },
     "output_type": "execute_result"
    }
   ],
   "source": [
    "model.fit(X_rus_train,ku.to_categorical(y_rus_train,num_classes=2),epochs=15,\n",
    "    validation_data=(X_val,ku.to_categorical(y_val,num_classes=2)),callbacks=[hist,early],shuffle=True)"
   ]
  },
  {
   "cell_type": "code",
   "execution_count": 0,
   "metadata": {
    "colab": {
     "base_uri": "https://localhost:8080/",
     "height": 269
    },
    "colab_type": "code",
    "executionInfo": {
     "elapsed": 1158,
     "status": "ok",
     "timestamp": 1563226868918,
     "user": {
      "displayName": "Maryam Barouti",
      "photoUrl": "https://lh6.googleusercontent.com/-Wo2mQpeXTgk/AAAAAAAAAAI/AAAAAAAAADg/n5iGHvZGCOo/s64/photo.jpg",
      "userId": "15748171986397641189"
     },
     "user_tz": 360
    },
    "id": "errRvBYW4cbh",
    "outputId": "89dd6d45-076a-44ef-9206-cec135dfec2e"
   },
   "outputs": [
    {
     "data": {
      "image/png": "[encoded data removed]",
      "text/plain": [
       "<Figure size 432x288 with 1 Axes>"
      ]
     },
     "metadata": {
      "tags": []
     },
     "output_type": "display_data"
    }
   ],
   "source": [
    "import matplotlib.pyplot as plt\n",
    "plt.plot(hist.history['loss'])\n",
    "plt.plot(hist.history['val_loss'])\n",
    "plt.show()"
   ]
  },
  {
   "cell_type": "code",
   "execution_count": 0,
   "metadata": {
    "colab": {},
    "colab_type": "code",
    "collapsed": true,
    "id": "h8iWT7C56Eb2"
   },
   "outputs": [],
   "source": [
    "y_te_pred=model.predict_classes(X_test)\n",
    "y_tr_pred=model.predict_classes(X_train)"
   ]
  },
  {
   "cell_type": "code",
   "execution_count": 0,
   "metadata": {
    "colab": {
     "base_uri": "https://localhost:8080/",
     "height": 119
    },
    "colab_type": "code",
    "executionInfo": {
     "elapsed": 904,
     "status": "ok",
     "timestamp": 1563226886415,
     "user": {
      "displayName": "Maryam Barouti",
      "photoUrl": "https://lh6.googleusercontent.com/-Wo2mQpeXTgk/AAAAAAAAAAI/AAAAAAAAADg/n5iGHvZGCOo/s64/photo.jpg",
      "userId": "15748171986397641189"
     },
     "user_tz": 360
    },
    "id": "M3X3rtxo6PR4",
    "outputId": "a088c9ae-5956-4737-d984-a3c24c5865b5"
   },
   "outputs": [
    {
     "name": "stdout",
     "output_type": "stream",
     "text": [
      "0.8360369353631145\n",
      "0.8187586206896552\n"
     ]
    },
    {
     "data": {
      "text/plain": [
       "(array([0.87155535, 0.79528403]),\n",
       " array([0.83007117, 0.84366117]),\n",
       " array([0.85030759, 0.81875862]),\n",
       " array([2248, 1759]))"
      ]
     },
     "execution_count": 19,
     "metadata": {
      "tags": []
     },
     "output_type": "execute_result"
    }
   ],
   "source": [
    "from sklearn.metrics import accuracy_score,f1_score,precision_recall_fscore_support\n",
    "print(accuracy_score(y_test,y_te_pred))\n",
    "print(f1_score(y_test,y_te_pred))\n",
    "precision_recall_fscore_support(y_test,y_te_pred)"
   ]
  },
  {
   "cell_type": "code",
   "execution_count": 0,
   "metadata": {
    "colab": {
     "base_uri": "https://localhost:8080/",
     "height": 119
    },
    "colab_type": "code",
    "executionInfo": {
     "elapsed": 914,
     "status": "ok",
     "timestamp": 1563226891125,
     "user": {
      "displayName": "Maryam Barouti",
      "photoUrl": "https://lh6.googleusercontent.com/-Wo2mQpeXTgk/AAAAAAAAAAI/AAAAAAAAADg/n5iGHvZGCOo/s64/photo.jpg",
      "userId": "15748171986397641189"
     },
     "user_tz": 360
    },
    "id": "uNz3Lzmh6Q_P",
    "outputId": "49bbceb4-c88c-46ce-9d4e-ff3aa6dd1852"
   },
   "outputs": [
    {
     "name": "stdout",
     "output_type": "stream",
     "text": [
      "0.8762302096705178\n",
      "0.8624093233440363\n"
     ]
    },
    {
     "data": {
      "text/plain": [
       "(array([0.90530491, 0.84217861]),\n",
       " array([0.87043569, 0.88363592]),\n",
       " array([0.88752795, 0.86240932]),\n",
       " array([10489,  8207]))"
      ]
     },
     "execution_count": 20,
     "metadata": {
      "tags": []
     },
     "output_type": "execute_result"
    }
   ],
   "source": [
    "print(accuracy_score(y_train,y_tr_pred))\n",
    "print(f1_score(y_train,y_tr_pred))\n",
    "precision_recall_fscore_support(y_train,y_tr_pred)"
   ]
  }
 ],
 "metadata": {
  "accelerator": "GPU",
  "colab": {
   "collapsed_sections": [],
   "name": "LSTM_glove-200.ipynb",
   "provenance": [],
   "version": "0.3.2"
  },
  "kernelspec": {
   "display_name": "Python 3",
   "language": "python",
   "name": "python3"
  },
  "language_info": {
   "codemirror_mode": {
    "name": "ipython",
    "version": 3
   },
   "file_extension": ".py",
   "mimetype": "text/x-python",
   "name": "python",
   "nbconvert_exporter": "python",
   "pygments_lexer": "ipython3",
   "version": "3.6.8"
  }
 },
 "nbformat": 4,
 "nbformat_minor": 1
}
