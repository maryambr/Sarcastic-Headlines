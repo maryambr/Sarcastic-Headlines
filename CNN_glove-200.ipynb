{
 "cells": [
  {
   "cell_type": "code",
   "execution_count": 5,
   "metadata": {
    "colab": {
     "base_uri": "https://localhost:8080/",
     "height": 34
    },
    "colab_type": "code",
    "executionInfo": {
     "elapsed": 870,
     "status": "ok",
     "timestamp": 1563312484474,
     "user": {
      "displayName": "Maryam Barouti",
      "photoUrl": "https://lh6.googleusercontent.com/-Wo2mQpeXTgk/AAAAAAAAAAI/AAAAAAAAADg/n5iGHvZGCOo/s64/photo.jpg",
      "userId": "15748171986397641189"
     },
     "user_tz": 360
    },
    "id": "jG2UgC-_wSwV",
    "outputId": "e09c35cd-6cb2-41ed-9f01-1f5257c84d91"
   },
   "outputs": [
    {
     "name": "stdout",
     "output_type": "stream",
     "text": [
      "Drive already mounted at /content/drive; to attempt to forcibly remount, call drive.mount(\"/content/drive\", force_remount=True).\n"
     ]
    }
   ],
   "source": [
    "import numpy as np\n",
    "np.random.seed(42)\n",
    "from google.colab import drive\n",
    "drive.mount('/content/drive')\n",
    "from keras.models import Model"
   ]
  },
  {
   "cell_type": "code",
   "execution_count": 0,
   "metadata": {
    "colab": {},
    "colab_type": "code",
    "collapsed": true,
    "id": "D6EjH38Iw3l_"
   },
   "outputs": [],
   "source": [
    "import pandas as pd\n",
    "data=pd.read_json(\"/content/drive/My Drive/sarcasm/Sarcasm_Headlines_Dataset.json\", lines=True)"
   ]
  },
  {
   "cell_type": "code",
   "execution_count": 0,
   "metadata": {
    "colab": {},
    "colab_type": "code",
    "collapsed": true,
    "id": "4Odq1gg0w-b5"
   },
   "outputs": [],
   "source": [
    "text = data.headline.tolist()\n",
    "label = np.array(data.is_sarcastic.tolist())"
   ]
  },
  {
   "cell_type": "code",
   "execution_count": 0,
   "metadata": {
    "colab": {},
    "colab_type": "code",
    "collapsed": true,
    "id": "q-_BRzq1xATu"
   },
   "outputs": [],
   "source": [
    "import keras\n",
    "\n",
    "from keras.preprocessing.text import Tokenizer\n",
    "# create the tokenizer\n",
    "t = Tokenizer()\n",
    "# fit the tokenizer on the documents\n",
    "seq=t.fit_on_texts(text)"
   ]
  },
  {
   "cell_type": "code",
   "execution_count": 0,
   "metadata": {
    "colab": {},
    "colab_type": "code",
    "collapsed": true,
    "id": "no3GuwjFxC-j"
   },
   "outputs": [],
   "source": [
    "sequences = t.texts_to_sequences(text)"
   ]
  },
  {
   "cell_type": "code",
   "execution_count": 10,
   "metadata": {
    "colab": {
     "base_uri": "https://localhost:8080/",
     "height": 34
    },
    "colab_type": "code",
    "executionInfo": {
     "elapsed": 23023,
     "status": "ok",
     "timestamp": 1563312513413,
     "user": {
      "displayName": "Maryam Barouti",
      "photoUrl": "https://lh6.googleusercontent.com/-Wo2mQpeXTgk/AAAAAAAAAAI/AAAAAAAAADg/n5iGHvZGCOo/s64/photo.jpg",
      "userId": "15748171986397641189"
     },
     "user_tz": 360
    },
    "id": "_sxrQ6icydAO",
    "outputId": "fd293bfe-9909-4a8f-832b-a3739418c3f3"
   },
   "outputs": [
    {
     "name": "stdout",
     "output_type": "stream",
     "text": [
      "GloVe data loaded\n"
     ]
    }
   ],
   "source": [
    "embeddings_index = {}\n",
    "f = open('/content/drive/My Drive/sarcasm/glove.6B.200d.txt')\n",
    "for line in f:\n",
    "    values = line.split(' ')\n",
    "    word = values[0] ## The first entry is the word\n",
    "    coefs = np.asarray(values[1:], dtype='float32') ## These are the vecotrs representing the embedding for the word\n",
    "    embeddings_index[word] = coefs\n",
    "f.close()\n",
    "\n",
    "print('GloVe data loaded')"
   ]
  },
  {
   "cell_type": "code",
   "execution_count": 0,
   "metadata": {
    "colab": {},
    "colab_type": "code",
    "collapsed": true,
    "id": "XBqSuq9R1yyy"
   },
   "outputs": [],
   "source": [
    "vocab_size=len(t.word_index)\n",
    "word_index = t.word_index"
   ]
  },
  {
   "cell_type": "code",
   "execution_count": 0,
   "metadata": {
    "colab": {},
    "colab_type": "code",
    "collapsed": true,
    "id": "kVW2QpVz1hwB"
   },
   "outputs": [],
   "source": [
    "EMBEDDING_DIM = embeddings_index.get('the').shape[0]\n",
    "embedding_matrix = np.zeros((vocab_size+1, EMBEDDING_DIM))\n",
    "for word, i in word_index.items():\n",
    "    if i > vocab_size:\n",
    "        continue\n",
    "    embedding_vector = embeddings_index.get(word) ## This references the loaded embeddings dictionary\n",
    "    if embedding_vector is not None:\n",
    "        # words not found in embedding index will be all-zeros.\n",
    "        embedding_matrix[i] = embedding_vector"
   ]
  },
  {
   "cell_type": "code",
   "execution_count": 14,
   "metadata": {
    "colab": {
     "base_uri": "https://localhost:8080/",
     "height": 34
    },
    "colab_type": "code",
    "executionInfo": {
     "elapsed": 946,
     "status": "ok",
     "timestamp": 1563312518360,
     "user": {
      "displayName": "Maryam Barouti",
      "photoUrl": "https://lh6.googleusercontent.com/-Wo2mQpeXTgk/AAAAAAAAAAI/AAAAAAAAADg/n5iGHvZGCOo/s64/photo.jpg",
      "userId": "15748171986397641189"
     },
     "user_tz": 360
    },
    "id": "_LpOfF3R2waF",
    "outputId": "09b326ed-5cf0-4777-ea53-1fb2533ce1f8"
   },
   "outputs": [
    {
     "data": {
      "text/plain": [
       "(29657, 200)"
      ]
     },
     "execution_count": 14,
     "metadata": {
      "tags": []
     },
     "output_type": "execute_result"
    }
   ],
   "source": [
    "embedding_matrix.shape"
   ]
  },
  {
   "cell_type": "code",
   "execution_count": 0,
   "metadata": {
    "colab": {},
    "colab_type": "code",
    "collapsed": true,
    "id": "cHaaSjRcxE2X"
   },
   "outputs": [],
   "source": [
    "from keras.preprocessing.sequence import pad_sequences\n",
    "train=pad_sequences(sequences, maxlen=100,padding='pre')"
   ]
  },
  {
   "cell_type": "code",
   "execution_count": 0,
   "metadata": {
    "colab": {},
    "colab_type": "code",
    "collapsed": true,
    "id": "erhWz01qxGrt"
   },
   "outputs": [],
   "source": [
    "from sklearn.model_selection import train_test_split\n",
    "\n",
    "X_train,X_testVal,y_train,y_testVal=train_test_split(train,label,test_size=0.3,stratify=label)\n",
    "X_val,X_test,y_val,y_test=train_test_split(X_testVal,y_testVal,test_size=0.5,stratify=y_testVal)"
   ]
  },
  {
   "cell_type": "code",
   "execution_count": 17,
   "metadata": {
    "colab": {
     "base_uri": "https://localhost:8080/",
     "height": 111
    },
    "colab_type": "code",
    "executionInfo": {
     "elapsed": 930,
     "status": "ok",
     "timestamp": 1563312521744,
     "user": {
      "displayName": "Maryam Barouti",
      "photoUrl": "https://lh6.googleusercontent.com/-Wo2mQpeXTgk/AAAAAAAAAAI/AAAAAAAAADg/n5iGHvZGCOo/s64/photo.jpg",
      "userId": "15748171986397641189"
     },
     "user_tz": 360
    },
    "id": "bmU8tYMuxI5U",
    "outputId": "b33c7a10-ceec-4f65-897d-16ff86030725"
   },
   "outputs": [
    {
     "name": "stderr",
     "output_type": "stream",
     "text": [
      "/usr/local/lib/python3.6/dist-packages/sklearn/externals/six.py:31: DeprecationWarning: The module is deprecated in version 0.21 and will be removed in version 0.23 since we've dropped support for Python 2.7. Please rely on the official version of six (https://pypi.org/project/six/).\n",
      "  \"(https://pypi.org/project/six/).\", DeprecationWarning)\n"
     ]
    }
   ],
   "source": [
    "from imblearn.over_sampling import RandomOverSampler\n",
    "rus = RandomOverSampler(return_indices=True)\n",
    "X_rus_train, y_rus_train, id_rus = rus.fit_sample(X_train, y_train)"
   ]
  },
  {
   "cell_type": "code",
   "execution_count": 0,
   "metadata": {
    "colab": {},
    "colab_type": "code",
    "collapsed": true,
    "id": "axiHRQfyxLN0"
   },
   "outputs": [],
   "source": [
    "from keras.callbacks import History,EarlyStopping\n",
    "hist = History()\n",
    "early=EarlyStopping(monitor='val_loss', patience=3, mode='auto', restore_best_weights=False)"
   ]
  },
  {
   "cell_type": "code",
   "execution_count": 0,
   "metadata": {
    "colab": {},
    "colab_type": "code",
    "collapsed": true,
    "id": "GU5EvqzfxL8U"
   },
   "outputs": [],
   "source": [
    "from keras.layers import Embedding, Conv2D, Dense, Dropout,MaxPool2D,Flatten,Input,Reshape,Concatenate\n",
    "from keras.models import Model\n",
    "from keras import optimizers\n",
    "import keras.utils as ku\n",
    "from keras import regularizers\n",
    "filter_sizes = [3,4,5]\n",
    "num_filters = 32\n",
    "num_filters = 32\n",
    "opt=optimizers.adam(lr=1.5e-5)\n",
    "sequence_input = Input(shape=(100,), dtype='int32')\n",
    "embedding_layer = Embedding(input_dim=29657, output_dim=200,input_length=100,name=\"embedding\")(sequence_input)\n",
    "reshape = Reshape((100,200,1))(embedding_layer)\n",
    "conv_0 = Conv2D(num_filters, kernel_size=(filter_sizes[0], 200), padding='valid', kernel_initializer='normal', activation='relu')(reshape)\n",
    "conv_1 = Conv2D(num_filters, kernel_size=(filter_sizes[1], 200), padding='valid', kernel_initializer='normal', activation='relu')(reshape)\n",
    "conv_2 = Conv2D(num_filters, kernel_size=(filter_sizes[2], 200), padding='valid', kernel_initializer='normal', activation='relu')(reshape)\n",
    "    \n",
    "maxpool_0 = MaxPool2D(pool_size=(100 - filter_sizes[0] + 1, 1), strides=(1,1), padding='valid')(conv_0)\n",
    "maxpool_1 = MaxPool2D(pool_size=(100 - filter_sizes[1] + 1, 1), strides=(1,1), padding='valid')(conv_1)\n",
    "maxpool_2 = MaxPool2D(pool_size=(100 - filter_sizes[2] + 1, 1), strides=(1,1), padding='valid')(conv_2)\n",
    "    \n",
    "concatenated_tensor = Concatenate(axis=1)([maxpool_0, maxpool_1, maxpool_2])\n",
    "flatten = Flatten()(concatenated_tensor)\n",
    "dropout = Dropout(0.5)(flatten)\n",
    "output = Dense(2, activation='softmax')(dropout)\n",
    "    \n",
    "model = Model(inputs=sequence_input, outputs=output)\n",
    "    \n",
    "model.compile(optimizer=opt, loss='categorical_crossentropy', metrics=['accuracy'])\n"
   ]
  },
  {
   "cell_type": "code",
   "execution_count": 21,
   "metadata": {
    "colab": {
     "base_uri": "https://localhost:8080/",
     "height": 1000
    },
    "colab_type": "code",
    "executionInfo": {
     "elapsed": 164056,
     "status": "ok",
     "timestamp": 1563312693505,
     "user": {
      "displayName": "Maryam Barouti",
      "photoUrl": "https://lh6.googleusercontent.com/-Wo2mQpeXTgk/AAAAAAAAAAI/AAAAAAAAADg/n5iGHvZGCOo/s64/photo.jpg",
      "userId": "15748171986397641189"
     },
     "user_tz": 360
    },
    "id": "9PgVHeR5xPDG",
    "outputId": "98160de0-0f35-43bb-cecf-95afb6ae7048"
   },
   "outputs": [
    {
     "name": "stderr",
     "output_type": "stream",
     "text": [
      "W0716 21:28:49.746807 139644627388288 deprecation.py:323] From /usr/local/lib/python3.6/dist-packages/tensorflow/python/ops/math_grad.py:1250: add_dispatch_support.<locals>.wrapper (from tensorflow.python.ops.array_ops) is deprecated and will be removed in a future version.\n",
      "Instructions for updating:\n",
      "Use tf.where in 2.0, which has the same broadcast rule as np.where\n"
     ]
    },
    {
     "name": "stdout",
     "output_type": "stream",
     "text": [
      "Train on 20978 samples, validate on 4006 samples\n",
      "Epoch 1/15\n",
      "20978/20978 [==============================] - 13s 634us/step - loss: 0.6900 - acc: 0.5375 - val_loss: 0.6859 - val_acc: 0.6068\n",
      "Epoch 2/15\n",
      "20978/20978 [==============================] - 11s 512us/step - loss: 0.6770 - acc: 0.6099 - val_loss: 0.6738 - val_acc: 0.7057\n",
      "Epoch 3/15\n",
      "20978/20978 [==============================] - 11s 512us/step - loss: 0.6602 - acc: 0.6748 - val_loss: 0.6557 - val_acc: 0.7386\n",
      "Epoch 4/15\n",
      "20978/20978 [==============================] - 11s 510us/step - loss: 0.6369 - acc: 0.7292 - val_loss: 0.6303 - val_acc: 0.7554\n",
      "Epoch 5/15\n",
      "20978/20978 [==============================] - 11s 510us/step - loss: 0.6057 - acc: 0.7728 - val_loss: 0.6007 - val_acc: 0.7626\n",
      "Epoch 6/15\n",
      "20978/20978 [==============================] - 11s 508us/step - loss: 0.5724 - acc: 0.7956 - val_loss: 0.5705 - val_acc: 0.7678\n",
      "Epoch 7/15\n",
      "20978/20978 [==============================] - 11s 508us/step - loss: 0.5376 - acc: 0.8060 - val_loss: 0.5415 - val_acc: 0.7698\n",
      "Epoch 8/15\n",
      "20978/20978 [==============================] - 11s 510us/step - loss: 0.5046 - acc: 0.8143 - val_loss: 0.5145 - val_acc: 0.7756\n",
      "Epoch 9/15\n",
      "20978/20978 [==============================] - 11s 506us/step - loss: 0.4731 - acc: 0.8270 - val_loss: 0.4905 - val_acc: 0.7853\n",
      "Epoch 10/15\n",
      "20978/20978 [==============================] - 11s 506us/step - loss: 0.4435 - acc: 0.8374 - val_loss: 0.4691 - val_acc: 0.7923\n",
      "Epoch 11/15\n",
      "20978/20978 [==============================] - 11s 513us/step - loss: 0.4147 - acc: 0.8488 - val_loss: 0.4498 - val_acc: 0.8008\n",
      "Epoch 12/15\n",
      "20978/20978 [==============================] - 11s 506us/step - loss: 0.3889 - acc: 0.8599 - val_loss: 0.4326 - val_acc: 0.8118\n",
      "Epoch 13/15\n",
      "20978/20978 [==============================] - 11s 508us/step - loss: 0.3627 - acc: 0.8715 - val_loss: 0.4171 - val_acc: 0.8198\n",
      "Epoch 14/15\n",
      "20978/20978 [==============================] - 11s 517us/step - loss: 0.3407 - acc: 0.8793 - val_loss: 0.4029 - val_acc: 0.8265\n",
      "Epoch 15/15\n",
      "20978/20978 [==============================] - 11s 509us/step - loss: 0.3191 - acc: 0.8912 - val_loss: 0.3905 - val_acc: 0.8355\n"
     ]
    },
    {
     "data": {
      "text/plain": [
       "<keras.callbacks.History at 0x7f0131de7550>"
      ]
     },
     "execution_count": 21,
     "metadata": {
      "tags": []
     },
     "output_type": "execute_result"
    }
   ],
   "source": [
    "model.fit(X_rus_train,ku.to_categorical(y_rus_train,num_classes=2),epochs=15,\n",
    "    validation_data=(X_val,ku.to_categorical(y_val,num_classes=2)),callbacks=[hist,early],shuffle=True)"
   ]
  },
  {
   "cell_type": "code",
   "execution_count": 0,
   "metadata": {
    "colab": {
     "base_uri": "https://localhost:8080/",
     "height": 269
    },
    "colab_type": "code",
    "executionInfo": {
     "elapsed": 992,
     "status": "ok",
     "timestamp": 1563238441663,
     "user": {
      "displayName": "Maryam Barouti",
      "photoUrl": "https://lh6.googleusercontent.com/-Wo2mQpeXTgk/AAAAAAAAAAI/AAAAAAAAADg/n5iGHvZGCOo/s64/photo.jpg",
      "userId": "15748171986397641189"
     },
     "user_tz": 360
    },
    "id": "errRvBYW4cbh",
    "outputId": "fb400b40-a63f-40a6-eeec-61b09361f0d7"
   },
   "outputs": [
    {
     "data": {
      "image/png": "[encoded data removed]",
      "text/plain": [
       "<Figure size 432x288 with 1 Axes>"
      ]
     },
     "metadata": {
      "tags": []
     },
     "output_type": "display_data"
    }
   ],
   "source": [
    "import matplotlib.pyplot as plt\n",
    "plt.plot(hist.history['loss'])\n",
    "plt.plot(hist.history['val_loss'])\n",
    "plt.show()"
   ]
  },
  {
   "cell_type": "code",
   "execution_count": 0,
   "metadata": {
    "colab": {},
    "colab_type": "code",
    "collapsed": true,
    "id": "h8iWT7C56Eb2"
   },
   "outputs": [],
   "source": [
    "y_te_pred=np.argmax(model.predict(X_test),axis=1)\n",
    "y_tr_pred=np.argmax(model.predict(X_train),axis=1)"
   ]
  },
  {
   "cell_type": "code",
   "execution_count": 0,
   "metadata": {
    "colab": {
     "base_uri": "https://localhost:8080/",
     "height": 170
    },
    "colab_type": "code",
    "executionInfo": {
     "elapsed": 977,
     "status": "ok",
     "timestamp": 1563239076680,
     "user": {
      "displayName": "Maryam Barouti",
      "photoUrl": "https://lh6.googleusercontent.com/-Wo2mQpeXTgk/AAAAAAAAAAI/AAAAAAAAADg/n5iGHvZGCOo/s64/photo.jpg",
      "userId": "15748171986397641189"
     },
     "user_tz": 360
    },
    "id": "PFfBQgaXRtj5",
    "outputId": "a53d2922-0364-441e-fdc5-e2963832eb45"
   },
   "outputs": [
    {
     "name": "stdout",
     "output_type": "stream",
     "text": [
      "              precision    recall  f1-score   support\n",
      "\n",
      "           0       0.81      0.87      0.84      2097\n",
      "           1       0.85      0.78      0.81      1910\n",
      "\n",
      "    accuracy                           0.83      4007\n",
      "   macro avg       0.83      0.83      0.83      4007\n",
      "weighted avg       0.83      0.83      0.83      4007\n",
      "\n"
     ]
    }
   ],
   "source": [
    "from sklearn.metrics import accuracy_score,f1_score,precision_recall_fscore_support,classification_report\n",
    "precision, recall, fscore, support = precision_recall_fscore_support(y_te_pred, y_test)\n",
    "print(classification_report(y_te_pred, y_test))"
   ]
  },
  {
   "cell_type": "code",
   "execution_count": 0,
   "metadata": {
    "colab": {
     "base_uri": "https://localhost:8080/",
     "height": 170
    },
    "colab_type": "code",
    "executionInfo": {
     "elapsed": 912,
     "status": "ok",
     "timestamp": 1563239109603,
     "user": {
      "displayName": "Maryam Barouti",
      "photoUrl": "https://lh6.googleusercontent.com/-Wo2mQpeXTgk/AAAAAAAAAAI/AAAAAAAAADg/n5iGHvZGCOo/s64/photo.jpg",
      "userId": "15748171986397641189"
     },
     "user_tz": 360
    },
    "id": "M3X3rtxo6PR4",
    "outputId": "75474646-6bfe-4924-a644-6a7f46d2702b"
   },
   "outputs": [
    {
     "name": "stdout",
     "output_type": "stream",
     "text": [
      "              precision    recall  f1-score   support\n",
      "\n",
      "           0       0.90      0.93      0.91     10117\n",
      "           1       0.91      0.87      0.89      8579\n",
      "\n",
      "    accuracy                           0.90     18696\n",
      "   macro avg       0.90      0.90      0.90     18696\n",
      "weighted avg       0.90      0.90      0.90     18696\n",
      "\n"
     ]
    }
   ],
   "source": [
    "precision, recall, fscore, support = precision_recall_fscore_support(y_tr_pred, y_train)\n",
    "print(classification_report(y_tr_pred, y_train))"
   ]
  },
  {
   "cell_type": "code",
   "execution_count": 0,
   "metadata": {
    "colab": {},
    "colab_type": "code",
    "collapsed": true,
    "id": "uNz3Lzmh6Q_P"
   },
   "outputs": [],
   "source": []
  }
 ],
 "metadata": {
  "accelerator": "GPU",
  "colab": {
   "collapsed_sections": [],
   "name": "CNN_glove-200.ipynb",
   "provenance": [],
   "version": "0.3.2"
  },
  "kernelspec": {
   "display_name": "Python 3",
   "language": "python",
   "name": "python3"
  },
  "language_info": {
   "codemirror_mode": {
    "name": "ipython",
    "version": 3
   },
   "file_extension": ".py",
   "mimetype": "text/x-python",
   "name": "python",
   "nbconvert_exporter": "python",
   "pygments_lexer": "ipython3",
   "version": "3.6.8"
  }
 },
 "nbformat": 4,
 "nbformat_minor": 1
}
